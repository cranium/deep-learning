{
 "cells": [
  {
   "cell_type": "markdown",
   "metadata": {
    "collapsed": true,
    "deletable": true,
    "editable": true
   },
   "source": [
    "# Image Classification\n",
    "In this project, you'll classify images from the [CIFAR-10 dataset](https://www.cs.toronto.edu/~kriz/cifar.html).  The dataset consists of airplanes, dogs, cats, and other objects. You'll preprocess the images, then train a convolutional neural network on all the samples. The images need to be normalized and the labels need to be one-hot encoded.  You'll get to apply what you learned and build a convolutional, max pooling, dropout, and fully connected layers.  At the end, you'll get to see your neural network's predictions on the sample images.\n",
    "## Get the Data\n",
    "Run the following cell to download the [CIFAR-10 dataset for python](https://www.cs.toronto.edu/~kriz/cifar-10-python.tar.gz)."
   ]
  },
  {
   "cell_type": "code",
   "execution_count": 23,
   "metadata": {
    "collapsed": false,
    "deletable": true,
    "editable": true
   },
   "outputs": [
    {
     "name": "stdout",
     "output_type": "stream",
     "text": [
      "All files found!\n"
     ]
    }
   ],
   "source": [
    "\"\"\"\n",
    "DON'T MODIFY ANYTHING IN THIS CELL THAT IS BELOW THIS LINE\n",
    "\"\"\"\n",
    "from urllib.request import urlretrieve\n",
    "from os.path import isfile, isdir\n",
    "from tqdm import tqdm\n",
    "import problem_unittests as tests\n",
    "import tarfile\n",
    "\n",
    "cifar10_dataset_folder_path = 'cifar-10-batches-py'\n",
    "\n",
    "class DLProgress(tqdm):\n",
    "    last_block = 0\n",
    "\n",
    "    def hook(self, block_num=1, block_size=1, total_size=None):\n",
    "        self.total = total_size\n",
    "        self.update((block_num - self.last_block) * block_size)\n",
    "        self.last_block = block_num\n",
    "\n",
    "if not isfile('cifar-10-python.tar.gz'):\n",
    "    with DLProgress(unit='B', unit_scale=True, miniters=1, desc='CIFAR-10 Dataset') as pbar:\n",
    "        urlretrieve(\n",
    "            'https://www.cs.toronto.edu/~kriz/cifar-10-python.tar.gz',\n",
    "            'cifar-10-python.tar.gz',\n",
    "            pbar.hook)\n",
    "\n",
    "if not isdir(cifar10_dataset_folder_path):\n",
    "    with tarfile.open('cifar-10-python.tar.gz') as tar:\n",
    "        tar.extractall()\n",
    "        tar.close()\n",
    "\n",
    "\n",
    "tests.test_folder_path(cifar10_dataset_folder_path)"
   ]
  },
  {
   "cell_type": "markdown",
   "metadata": {
    "deletable": true,
    "editable": true
   },
   "source": [
    "## Explore the Data\n",
    "The dataset is broken into batches to prevent your machine from running out of memory.  The CIFAR-10 dataset consists of 5 batches, named `data_batch_1`, `data_batch_2`, etc.. Each batch contains the labels and images that are one of the following:\n",
    "* airplane\n",
    "* automobile\n",
    "* bird\n",
    "* cat\n",
    "* deer\n",
    "* dog\n",
    "* frog\n",
    "* horse\n",
    "* ship\n",
    "* truck\n",
    "\n",
    "Understanding a dataset is part of making predictions on the data.  Play around with the code cell below by changing the `batch_id` and `sample_id`. The `batch_id` is the id for a batch (1-5). The `sample_id` is the id for a image and label pair in the batch.\n",
    "\n",
    "Ask yourself \"What are all possible labels?\", \"What is the range of values for the image data?\", \"Are the labels in order or random?\".  Answers to questions like these will help you preprocess the data and end up with better predictions."
   ]
  },
  {
   "cell_type": "code",
   "execution_count": 24,
   "metadata": {
    "collapsed": false,
    "deletable": true,
    "editable": true
   },
   "outputs": [
    {
     "name": "stdout",
     "output_type": "stream",
     "text": [
      "\n",
      "Stats of batch 5:\n",
      "Samples: 10000\n",
      "Label Counts: {0: 1014, 1: 1014, 2: 952, 3: 1016, 4: 997, 5: 1025, 6: 980, 7: 977, 8: 1003, 9: 1022}\n",
      "First 20 Labels: [1, 8, 5, 1, 5, 7, 4, 3, 8, 2, 7, 2, 0, 1, 5, 9, 6, 2, 0, 8]\n",
      "\n",
      "Example of Image 29:\n",
      "Image - Min Value: 2 Max Value: 252\n",
      "Image - Shape: (32, 32, 3)\n",
      "Label - Label Id: 9 Name: truck\n"
     ]
    },
    {
     "data": {
      "image/png": "[encoded data removed]",
      "text/plain": [
       "<matplotlib.figure.Figure at 0x7f92d2c4c2e8>"
      ]
     },
     "metadata": {
      "image/png": {
       "height": 250,
       "width": 253
      }
     },
     "output_type": "display_data"
    }
   ],
   "source": [
    "%matplotlib inline\n",
    "%config InlineBackend.figure_format = 'retina'\n",
    "\n",
    "import helper\n",
    "import numpy as np\n",
    "\n",
    "# Explore the dataset\n",
    "batch_id = 5\n",
    "sample_id = 29\n",
    "helper.display_stats(cifar10_dataset_folder_path, batch_id, sample_id)"
   ]
  },
  {
   "cell_type": "markdown",
   "metadata": {
    "deletable": true,
    "editable": true
   },
   "source": [
    "## Implement Preprocess Functions\n",
    "### Normalize\n",
    "In the cell below, implement the `normalize` function to take in image data, `x`, and return it as a normalized Numpy array. The values should be in the range of 0 to 1, inclusive.  The return object should be the same shape as `x`."
   ]
  },
  {
   "cell_type": "code",
   "execution_count": 25,
   "metadata": {
    "collapsed": false,
    "deletable": true,
    "editable": true
   },
   "outputs": [
    {
     "name": "stdout",
     "output_type": "stream",
     "text": [
      "Tests Passed\n"
     ]
    }
   ],
   "source": [
    "def normalize(x):\n",
    "    \"\"\"\n",
    "    Normalize a list of sample image data in the range of 0 to 1\n",
    "    : x: List of image data.  The image shape is (32, 32, 3)\n",
    "    : return: Numpy array of normalize data\n",
    "    \"\"\"\n",
    "    return (x - x.min()) / (x.max()-x.min())\n",
    "\n",
    "\n",
    "\"\"\"\n",
    "DON'T MODIFY ANYTHING IN THIS CELL THAT IS BELOW THIS LINE\n",
    "\"\"\"\n",
    "tests.test_normalize(normalize)"
   ]
  },
  {
   "cell_type": "markdown",
   "metadata": {
    "deletable": true,
    "editable": true
   },
   "source": [
    "### One-hot encode\n",
    "Just like the previous code cell, you'll be implementing a function for preprocessing.  This time, you'll implement the `one_hot_encode` function. The input, `x`, are a list of labels.  Implement the function to return the list of labels as One-Hot encoded Numpy array.  The possible values for labels are 0 to 9. The one-hot encoding function should return the same encoding for each value between each call to `one_hot_encode`.  Make sure to save the map of encodings outside the function.\n",
    "\n",
    "Hint: Don't reinvent the wheel."
   ]
  },
  {
   "cell_type": "code",
   "execution_count": 26,
   "metadata": {
    "collapsed": false,
    "deletable": true,
    "editable": true
   },
   "outputs": [
    {
     "name": "stdout",
     "output_type": "stream",
     "text": [
      "Tests Passed\n"
     ]
    }
   ],
   "source": [
    "from sklearn import preprocessing\n",
    "\n",
    "rrange = np.arange(10)\n",
    "\n",
    "def one_hot_encode(x):\n",
    "    \"\"\"\n",
    "    One hot encode a list of sample labels. Return a one-hot encoded vector for each label.\n",
    "    : x: List of sample Labels\n",
    "    : return: Numpy array of one-hot encoded labels\n",
    "    \"\"\"\n",
    "    \n",
    "    lb = preprocessing.LabelBinarizer()\n",
    "    \n",
    "    lb.fit(rrange)\n",
    "    \n",
    "    return lb.transform(x)\n",
    "                \n",
    "    \n",
    "\n",
    "\"\"\"\n",
    "DON'T MODIFY ANYTHING IN THIS CELL THAT IS BELOW THIS LINE\n",
    "\"\"\"\n",
    "tests.test_one_hot_encode(one_hot_encode)"
   ]
  },
  {
   "cell_type": "markdown",
   "metadata": {
    "deletable": true,
    "editable": true
   },
   "source": [
    "### Randomize Data\n",
    "As you saw from exploring the data above, the order of the samples are randomized.  It doesn't hurt to randomize it again, but you don't need to for this dataset."
   ]
  },
  {
   "cell_type": "markdown",
   "metadata": {
    "deletable": true,
    "editable": true
   },
   "source": [
    "## Preprocess all the data and save it\n",
    "Running the code cell below will preprocess all the CIFAR-10 data and save it to file. The code below also uses 10% of the training data for validation."
   ]
  },
  {
   "cell_type": "code",
   "execution_count": 27,
   "metadata": {
    "collapsed": false,
    "deletable": true,
    "editable": true
   },
   "outputs": [],
   "source": [
    "\"\"\"\n",
    "DON'T MODIFY ANYTHING IN THIS CELL\n",
    "\"\"\"\n",
    "# Preprocess Training, Validation, and Testing Data\n",
    "helper.preprocess_and_save_data(cifar10_dataset_folder_path, normalize, one_hot_encode)"
   ]
  },
  {
   "cell_type": "markdown",
   "metadata": {
    "deletable": true,
    "editable": true
   },
   "source": [
    "# Check Point\n",
    "This is your first checkpoint.  If you ever decide to come back to this notebook or have to restart the notebook, you can start from here.  The preprocessed data has been saved to disk."
   ]
  },
  {
   "cell_type": "code",
   "execution_count": 28,
   "metadata": {
    "collapsed": true,
    "deletable": true,
    "editable": true
   },
   "outputs": [],
   "source": [
    "\"\"\"\n",
    "DON'T MODIFY ANYTHING IN THIS CELL\n",
    "\"\"\"\n",
    "import pickle\n",
    "import problem_unittests as tests\n",
    "import helper\n",
    "\n",
    "# Load the Preprocessed Validation data\n",
    "valid_features, valid_labels = pickle.load(open('preprocess_validation.p', mode='rb'))"
   ]
  },
  {
   "cell_type": "markdown",
   "metadata": {
    "deletable": true,
    "editable": true
   },
   "source": [
    "## Build the network\n",
    "For the neural network, you'll build each layer into a function.  Most of the code you've seen has been outside of functions. To test your code more thoroughly, we require that you put each layer in a function.  This allows us to give you better feedback and test for simple mistakes using our unittests before you submit your project.\n",
    "\n",
    ">**Note:** If you're finding it hard to dedicate enough time for this course each week, we've provided a small shortcut to this part of the project. In the next couple of problems, you'll have the option to use classes from the [TensorFlow Layers](https://www.tensorflow.org/api_docs/python/tf/layers) or [TensorFlow Layers (contrib)](https://www.tensorflow.org/api_guides/python/contrib.layers) packages to build each layer, except the layers you build in the \"Convolutional and Max Pooling Layer\" section.  TF Layers is similar to Keras's and TFLearn's abstraction to layers, so it's easy to pickup.\n",
    "\n",
    ">However, if you would like to get the most out of this course, try to solve all the problems _without_ using anything from the TF Layers packages. You **can** still use classes from other packages that happen to have the same name as ones you find in TF Layers! For example, instead of using the TF Layers version of the `conv2d` class, [tf.layers.conv2d](https://www.tensorflow.org/api_docs/python/tf/layers/conv2d), you would want to use the TF Neural Network version of `conv2d`, [tf.nn.conv2d](https://www.tensorflow.org/api_docs/python/tf/nn/conv2d). \n",
    "\n",
    "Let's begin!\n",
    "\n",
    "### Input\n",
    "The neural network needs to read the image data, one-hot encoded labels, and dropout keep probability. Implement the following functions\n",
    "* Implement `neural_net_image_input`\n",
    " * Return a [TF Placeholder](https://www.tensorflow.org/api_docs/python/tf/placeholder)\n",
    " * Set the shape using `image_shape` with batch size set to `None`.\n",
    " * Name the TensorFlow placeholder \"x\" using the TensorFlow `name` parameter in the [TF Placeholder](https://www.tensorflow.org/api_docs/python/tf/placeholder).\n",
    "* Implement `neural_net_label_input`\n",
    " * Return a [TF Placeholder](https://www.tensorflow.org/api_docs/python/tf/placeholder)\n",
    " * Set the shape using `n_classes` with batch size set to `None`.\n",
    " * Name the TensorFlow placeholder \"y\" using the TensorFlow `name` parameter in the [TF Placeholder](https://www.tensorflow.org/api_docs/python/tf/placeholder).\n",
    "* Implement `neural_net_keep_prob_input`\n",
    " * Return a [TF Placeholder](https://www.tensorflow.org/api_docs/python/tf/placeholder) for dropout keep probability.\n",
    " * Name the TensorFlow placeholder \"keep_prob\" using the TensorFlow `name` parameter in the [TF Placeholder](https://www.tensorflow.org/api_docs/python/tf/placeholder).\n",
    "\n",
    "These names will be used at the end of the project to load your saved model.\n",
    "\n",
    "Note: `None` for shapes in TensorFlow allow for a dynamic size."
   ]
  },
  {
   "cell_type": "code",
   "execution_count": 29,
   "metadata": {
    "collapsed": false,
    "deletable": true,
    "editable": true
   },
   "outputs": [
    {
     "name": "stdout",
     "output_type": "stream",
     "text": [
      "Image Input Tests Passed.\n",
      "Label Input Tests Passed.\n",
      "Keep Prob Tests Passed.\n"
     ]
    }
   ],
   "source": [
    "import tensorflow as tf\n",
    "\n",
    "def neural_net_image_input(image_shape):\n",
    "    \"\"\"\n",
    "    Return a Tensor for a bach of image input\n",
    "    : image_shape: Shape of the images\n",
    "    : return: Tensor for image input.\n",
    "    \"\"\"\n",
    "    return tf.placeholder(tf.float32, (None, image_shape[0], image_shape[1], image_shape[2]), name=\"x\")\n",
    "\n",
    "\n",
    "def neural_net_label_input(n_classes):\n",
    "    \"\"\"\n",
    "    Return a Tensor for a batch of label input\n",
    "    : n_classes: Number of classes\n",
    "    : return: Tensor for label input.\n",
    "    \"\"\"\n",
    "    return tf.placeholder(tf.float32, (None, n_classes), name=\"y\")\n",
    "\n",
    "\n",
    "def neural_net_keep_prob_input():\n",
    "    \"\"\"\n",
    "    Return a Tensor for keep probability\n",
    "    : return: Tensor for keep probability.\n",
    "    \"\"\"\n",
    "    return tf.placeholder(tf.float32, name=\"keep_prob\")\n",
    "\n",
    "\n",
    "\"\"\"\n",
    "DON'T MODIFY ANYTHING IN THIS CELL THAT IS BELOW THIS LINE\n",
    "\"\"\"\n",
    "tf.reset_default_graph()\n",
    "tests.test_nn_image_inputs(neural_net_image_input)\n",
    "tests.test_nn_label_inputs(neural_net_label_input)\n",
    "tests.test_nn_keep_prob_inputs(neural_net_keep_prob_input)"
   ]
  },
  {
   "cell_type": "markdown",
   "metadata": {
    "deletable": true,
    "editable": true
   },
   "source": [
    "### Convolution and Max Pooling Layer\n",
    "Convolution layers have a lot of success with images. For this code cell, you should implement the function `conv2d_maxpool` to apply convolution then max pooling:\n",
    "* Create the weight and bias using `conv_ksize`, `conv_num_outputs` and the shape of `x_tensor`.\n",
    "* Apply a convolution to `x_tensor` using weight and `conv_strides`.\n",
    " * We recommend you use same padding, but you're welcome to use any padding.\n",
    "* Add bias\n",
    "* Add a nonlinear activation to the convolution.\n",
    "* Apply Max Pooling using `pool_ksize` and `pool_strides`.\n",
    " * We recommend you use same padding, but you're welcome to use any padding.\n",
    "\n",
    "**Note:** You **can't** use [TensorFlow Layers](https://www.tensorflow.org/api_docs/python/tf/layers) or [TensorFlow Layers (contrib)](https://www.tensorflow.org/api_guides/python/contrib.layers) for **this** layer, but you can still use TensorFlow's [Neural Network](https://www.tensorflow.org/api_docs/python/tf/nn) package. You may still use the shortcut option for all the **other** layers."
   ]
  },
  {
   "cell_type": "code",
   "execution_count": 54,
   "metadata": {
    "collapsed": false,
    "deletable": true,
    "editable": true
   },
   "outputs": [
    {
     "name": "stdout",
     "output_type": "stream",
     "text": [
      "Tests Passed\n"
     ]
    }
   ],
   "source": [
    "def conv2d_maxpool(x_tensor, conv_num_outputs, conv_ksize, conv_strides, pool_ksize, pool_strides):\n",
    "    \"\"\"\n",
    "    Apply convolution then max pooling to x_tensor\n",
    "    :param x_tensor: TensorFlow Tensor\n",
    "    :param conv_num_outputs: Number of outputs for the convolutional layer\n",
    "    :param conv_ksize: kernal size 2-D Tuple for the convolutional layer\n",
    "    :param conv_strides: Stride 2-D Tuple for convolution\n",
    "    :param pool_ksize: kernal size 2-D Tuple for pool\n",
    "    :param pool_strides: Stride 2-D Tuple for pool\n",
    "    : return: A tensor that represents convolution and max pooling of x_tensor\n",
    "    \"\"\"\n",
    "    \n",
    "    input_feature_map = x_tensor.get_shape()[3].value\n",
    "    \n",
    "    weight = tf.Variable(\n",
    "        tf.truncated_normal(\n",
    "            [conv_ksize[0], conv_ksize[1], x_tensor.get_shape().as_list()[3], conv_num_outputs],\n",
    "            mean=0,\n",
    "            stddev=0.01\n",
    "        ),\n",
    "        name=\"conv2d_weight\"\n",
    "    )\n",
    "    #bias = tf.Variable(tf.truncated_normal([conv_num_outputs], dtype=tf.float32))\n",
    "    bias = tf.Variable(tf.zeros([conv_num_outputs], dtype=tf.float32), name=\"conv2d_bias\")\n",
    "    \n",
    "    cstrides = [1, conv_strides[0], conv_strides[1], 1]\n",
    "    pstrides = [1, pool_strides[0], pool_strides[1], 1]\n",
    "    \n",
    "    output = tf.nn.conv2d(\n",
    "        x_tensor,\n",
    "        weight,\n",
    "        strides=cstrides,\n",
    "        padding=\"SAME\"\n",
    "    )\n",
    "    \n",
    "    output = tf.nn.bias_add(output, bias)\n",
    "    output = tf.nn.relu(output)\n",
    "    \n",
    "    output = tf.nn.max_pool(\n",
    "        output,\n",
    "        ksize=[1, pool_ksize[0], pool_ksize[1], 1],\n",
    "        strides=pstrides,\n",
    "        padding=\"SAME\"\n",
    "    )\n",
    "    \n",
    "    return output\n",
    "    \n",
    "\n",
    "\n",
    "\"\"\"\n",
    "DON'T MODIFY ANYTHING IN THIS CELL THAT IS BELOW THIS LINE\n",
    "\"\"\"\n",
    "tests.test_con_pool(conv2d_maxpool)"
   ]
  },
  {
   "cell_type": "markdown",
   "metadata": {
    "deletable": true,
    "editable": true
   },
   "source": [
    "### Flatten Layer\n",
    "Implement the `flatten` function to change the dimension of `x_tensor` from a 4-D tensor to a 2-D tensor.  The output should be the shape (*Batch Size*, *Flattened Image Size*). Shortcut option: you can use classes from the [TensorFlow Layers](https://www.tensorflow.org/api_docs/python/tf/layers) or [TensorFlow Layers (contrib)](https://www.tensorflow.org/api_guides/python/contrib.layers) packages for this layer. For more of a challenge, only use other TensorFlow packages."
   ]
  },
  {
   "cell_type": "code",
   "execution_count": 55,
   "metadata": {
    "collapsed": false,
    "deletable": true,
    "editable": true
   },
   "outputs": [
    {
     "name": "stdout",
     "output_type": "stream",
     "text": [
      "Tests Passed\n"
     ]
    }
   ],
   "source": [
    "def flatten(x_tensor):\n",
    "    \"\"\"\n",
    "    Flatten x_tensor to (Batch Size, Flattened Image Size)\n",
    "    : x_tensor: A tensor of size (Batch Size, ...), where ... are the image dimensions.\n",
    "    : return: A tensor of size (Batch Size, Flattened Image Size).\n",
    "    \"\"\"\n",
    "    tensor_dims = x_tensor.get_shape().as_list()\n",
    "    \n",
    "    return tf.reshape(x_tensor, [-1, tensor_dims[1]*tensor_dims[2]*tensor_dims[3]])\n",
    "\n",
    "\n",
    "\"\"\"\n",
    "DON'T MODIFY ANYTHING IN THIS CELL THAT IS BELOW THIS LINE\n",
    "\"\"\"\n",
    "tests.test_flatten(flatten)"
   ]
  },
  {
   "cell_type": "markdown",
   "metadata": {
    "deletable": true,
    "editable": true
   },
   "source": [
    "### Fully-Connected Layer\n",
    "Implement the `fully_conn` function to apply a fully connected layer to `x_tensor` with the shape (*Batch Size*, *num_outputs*). Shortcut option: you can use classes from the [TensorFlow Layers](https://www.tensorflow.org/api_docs/python/tf/layers) or [TensorFlow Layers (contrib)](https://www.tensorflow.org/api_guides/python/contrib.layers) packages for this layer. For more of a challenge, only use other TensorFlow packages."
   ]
  },
  {
   "cell_type": "code",
   "execution_count": 56,
   "metadata": {
    "collapsed": false,
    "deletable": true,
    "editable": true
   },
   "outputs": [
    {
     "name": "stdout",
     "output_type": "stream",
     "text": [
      "Tests Passed\n"
     ]
    }
   ],
   "source": [
    "def fully_conn(x_tensor, num_outputs):\n",
    "    \"\"\"\n",
    "    Apply a fully connected layer to x_tensor using weight and bias\n",
    "    : x_tensor: A 2-D tensor where the first dimension is batch size.\n",
    "    : num_outputs: The number of output that the new tensor should be.\n",
    "    : return: A 2-D tensor where the second dimension is num_outputs.\n",
    "    \"\"\"\n",
    "    tensor_shape = x_tensor.get_shape().as_list()\n",
    "    \n",
    "    weights = tf.Variable(tf.truncated_normal([tensor_shape[1], num_outputs], mean=0.0, stddev=0.03), name=\"weight_fc\")\n",
    "    bias = tf.Variable(tf.zeros([num_outputs]), name=\"weight_bias\")\n",
    "    \n",
    "    output = tf.add(tf.matmul(x_tensor, weights), bias)\n",
    "    \n",
    "    return output\n",
    "\n",
    "\n",
    "\"\"\"\n",
    "DON'T MODIFY ANYTHING IN THIS CELL THAT IS BELOW THIS LINE\n",
    "\"\"\"\n",
    "tests.test_fully_conn(fully_conn)"
   ]
  },
  {
   "cell_type": "markdown",
   "metadata": {
    "deletable": true,
    "editable": true
   },
   "source": [
    "### Output Layer\n",
    "Implement the `output` function to apply a fully connected layer to `x_tensor` with the shape (*Batch Size*, *num_outputs*). Shortcut option: you can use classes from the [TensorFlow Layers](https://www.tensorflow.org/api_docs/python/tf/layers) or [TensorFlow Layers (contrib)](https://www.tensorflow.org/api_guides/python/contrib.layers) packages for this layer. For more of a challenge, only use other TensorFlow packages.\n",
    "\n",
    "**Note:** Activation, softmax, or cross entropy should **not** be applied to this."
   ]
  },
  {
   "cell_type": "code",
   "execution_count": 57,
   "metadata": {
    "collapsed": false,
    "deletable": true,
    "editable": true
   },
   "outputs": [
    {
     "name": "stdout",
     "output_type": "stream",
     "text": [
      "Tests Passed\n"
     ]
    }
   ],
   "source": [
    "def output(x_tensor, num_outputs):\n",
    "    \"\"\"\n",
    "    Apply a output layer to x_tensor using weight and bias\n",
    "    : x_tensor: A 2-D tensor where the first dimension is batch size.\n",
    "    : num_outputs: The number of output that the new tensor should be.\n",
    "    : return: A 2-D tensor where the second dimension is num_outputs.\n",
    "    \"\"\"\n",
    "    tensor_shape = x_tensor.get_shape().as_list()\n",
    "    \n",
    "    weights = tf.Variable(tf.truncated_normal([tensor_shape[1], num_outputs], mean=0, stddev=0.01), name=\"output_weight\")\n",
    "    \n",
    "    bias = tf.Variable(tf.zeros([num_outputs]), name=\"output_bias\")\n",
    "    \n",
    "    output = tf.add(tf.matmul(x_tensor, weights), bias)\n",
    "    \n",
    "    return output\n",
    "\n",
    "\n",
    "\"\"\"\n",
    "DON'T MODIFY ANYTHING IN THIS CELL THAT IS BELOW THIS LINE\n",
    "\"\"\"\n",
    "tests.test_output(output)"
   ]
  },
  {
   "cell_type": "markdown",
   "metadata": {
    "deletable": true,
    "editable": true
   },
   "source": [
    "### Create Convolutional Model\n",
    "Implement the function `conv_net` to create a convolutional neural network model. The function takes in a batch of images, `x`, and outputs logits.  Use the layers you created above to create this model:\n",
    "\n",
    "* Apply 1, 2, or 3 Convolution and Max Pool layers\n",
    "* Apply a Flatten Layer\n",
    "* Apply 1, 2, or 3 Fully Connected Layers\n",
    "* Apply an Output Layer\n",
    "* Return the output\n",
    "* Apply [TensorFlow's Dropout](https://www.tensorflow.org/api_docs/python/tf/nn/dropout) to one or more layers in the model using `keep_prob`. "
   ]
  },
  {
   "cell_type": "code",
   "execution_count": 58,
   "metadata": {
    "collapsed": false,
    "deletable": true,
    "editable": true
   },
   "outputs": [
    {
     "name": "stdout",
     "output_type": "stream",
     "text": [
      "Neural Network Built!\n"
     ]
    }
   ],
   "source": [
    "def conv_net(x, keep_prob):\n",
    "    \"\"\"\n",
    "    Create a convolutional neural network model\n",
    "    : x: Placeholder tensor that holds image data.\n",
    "    : keep_prob: Placeholder tensor that hold dropout keep probability.\n",
    "    : return: Tensor that represents logits\n",
    "    \"\"\"\n",
    "    conv_ksize = (3, 3)\n",
    "    conv_strides = (1, 1)\n",
    "    pool_ksize = (2, 2)\n",
    "    pool_strides = (2, 2)\n",
    "    \n",
    "    num_outputs = 10\n",
    "    \n",
    "    network = conv2d_maxpool(x, 16, conv_ksize, conv_strides, pool_ksize, pool_strides)\n",
    "    network = conv2d_maxpool(network, 32, conv_ksize, conv_strides, pool_ksize, pool_strides)\n",
    "    network = conv2d_maxpool(network, 64, conv_ksize, conv_strides, pool_ksize, pool_strides)\n",
    "    \n",
    "    network = flatten(network)\n",
    "    network = fully_conn(network, 512)\n",
    "    network = tf.nn.dropout(network, keep_prob=keep_prob)\n",
    "    network = fully_conn(network, 1024)\n",
    "    network = output(network, num_outputs)\n",
    "    \n",
    "    return network\n",
    "\n",
    "\n",
    "\"\"\"\n",
    "DON'T MODIFY ANYTHING IN THIS CELL THAT IS BELOW THIS LINE\n",
    "\"\"\"\n",
    "\n",
    "##############################\n",
    "## Build the Neural Network ##\n",
    "##############################\n",
    "\n",
    "# Remove previous weights, bias, inputs, etc..\n",
    "tf.reset_default_graph()\n",
    "\n",
    "# Inputs\n",
    "x = neural_net_image_input((32, 32, 3))\n",
    "y = neural_net_label_input(10)\n",
    "keep_prob = neural_net_keep_prob_input()\n",
    "\n",
    "# Model\n",
    "logits = conv_net(x, keep_prob)\n",
    "\n",
    "# Name logits Tensor, so that is can be loaded from disk after training\n",
    "logits = tf.identity(logits, name='logits')\n",
    "\n",
    "# Loss and Optimizer\n",
    "cost = tf.reduce_mean(tf.nn.softmax_cross_entropy_with_logits(logits=logits, labels=y))\n",
    "optimizer = tf.train.AdamOptimizer().minimize(cost)\n",
    "\n",
    "# Accuracy\n",
    "correct_pred = tf.equal(tf.argmax(logits, 1), tf.argmax(y, 1))\n",
    "accuracy = tf.reduce_mean(tf.cast(correct_pred, tf.float32), name='accuracy')\n",
    "\n",
    "tests.test_conv_net(conv_net)"
   ]
  },
  {
   "cell_type": "markdown",
   "metadata": {
    "deletable": true,
    "editable": true
   },
   "source": [
    "## Train the Neural Network\n",
    "### Single Optimization\n",
    "Implement the function `train_neural_network` to do a single optimization.  The optimization should use `optimizer` to optimize in `session` with a `feed_dict` of the following:\n",
    "* `x` for image input\n",
    "* `y` for labels\n",
    "* `keep_prob` for keep probability for dropout\n",
    "\n",
    "This function will be called for each batch, so `tf.global_variables_initializer()` has already been called.\n",
    "\n",
    "Note: Nothing needs to be returned. This function is only optimizing the neural network."
   ]
  },
  {
   "cell_type": "code",
   "execution_count": 63,
   "metadata": {
    "collapsed": false,
    "deletable": true,
    "editable": true
   },
   "outputs": [
    {
     "name": "stdout",
     "output_type": "stream",
     "text": [
      "Tests Passed\n"
     ]
    }
   ],
   "source": [
    "def train_neural_network(session, optimizer, keep_probability, feature_batch, label_batch):\n",
    "    \"\"\"\n",
    "    Optimize the session on a batch of images and labels\n",
    "    : session: Current TensorFlow session\n",
    "    : optimizer: TensorFlow optimizer function\n",
    "    : keep_probability: keep probability\n",
    "    : feature_batch: Batch of Numpy image data\n",
    "    : label_batch: Batch of Numpy label data\n",
    "    \"\"\"\n",
    "    session.run(optimizer, feed_dict={\n",
    "        x: feature_batch,\n",
    "        y: label_batch,\n",
    "        keep_prob: keep_probability\n",
    "    })\n",
    "\n",
    "\n",
    "\"\"\"\n",
    "DON'T MODIFY ANYTHING IN THIS CELL THAT IS BELOW THIS LINE\n",
    "\"\"\"\n",
    "tests.test_train_nn(train_neural_network)"
   ]
  },
  {
   "cell_type": "markdown",
   "metadata": {
    "deletable": true,
    "editable": true
   },
   "source": [
    "### Show Stats\n",
    "Implement the function `print_stats` to print loss and validation accuracy.  Use the global variables `valid_features` and `valid_labels` to calculate validation accuracy.  Use a keep probability of `1.0` to calculate the loss and validation accuracy."
   ]
  },
  {
   "cell_type": "code",
   "execution_count": 60,
   "metadata": {
    "collapsed": false,
    "deletable": true,
    "editable": true
   },
   "outputs": [],
   "source": [
    "def print_stats(session, feature_batch, label_batch, cost, accuracy):\n",
    "    \"\"\"\n",
    "    Print information about loss and validation accuracy\n",
    "    : session: Current TensorFlow session\n",
    "    : feature_batch: Batch of Numpy image data\n",
    "    : label_batch: Batch of Numpy label data\n",
    "    : cost: TensorFlow cost function\n",
    "    : accuracy: TensorFlow accuracy function\n",
    "    \"\"\"\n",
    "    loss = session.run(cost, feed_dict={\n",
    "        x: feature_batch,\n",
    "        y: label_batch,\n",
    "        keep_prob: 1.0\n",
    "    })\n",
    "    \n",
    "    accuracies = np.zeros(5)\n",
    "    \n",
    "    for i in [0, 1000, 2000, 3000, 4000]:\n",
    "        valid_acc = session.run(accuracy, feed_dict={\n",
    "            x: valid_features[i:i+1000],\n",
    "            y: valid_labels[i:i+1000],\n",
    "            keep_prob: 1.0\n",
    "        })\n",
    "        \n",
    "        index = int(i/1000)\n",
    "        \n",
    "        accuracies[index] = valid_acc\n",
    "        \n",
    "    accuracy = np.mean(accuracies)\n",
    "    \n",
    "    print(\"Loss: {loss} - Validation Accuracy: {valid_acc}\".format(loss=loss, valid_acc=accuracy))"
   ]
  },
  {
   "cell_type": "markdown",
   "metadata": {
    "deletable": true,
    "editable": true
   },
   "source": [
    "### Hyperparameters\n",
    "Tune the following parameters:\n",
    "* Set `epochs` to the number of iterations until the network stops learning or start overfitting\n",
    "* Set `batch_size` to the highest number that your machine has memory for.  Most people set them to common sizes of memory:\n",
    " * 64\n",
    " * 128\n",
    " * 256\n",
    " * ...\n",
    "* Set `keep_probability` to the probability of keeping a node using dropout"
   ]
  },
  {
   "cell_type": "code",
   "execution_count": 72,
   "metadata": {
    "collapsed": false,
    "deletable": true,
    "editable": true
   },
   "outputs": [],
   "source": [
    "# TODO: Tune Parameters\n",
    "epochs = 50\n",
    "batch_size = 1024\n",
    "keep_probability = .5"
   ]
  },
  {
   "cell_type": "markdown",
   "metadata": {
    "deletable": true,
    "editable": true
   },
   "source": [
    "### Train on a Single CIFAR-10 Batch\n",
    "Instead of training the neural network on all the CIFAR-10 batches of data, let's use a single batch. This should save time while you iterate on the model to get a better accuracy.  Once the final validation accuracy is 50% or greater, run the model on all the data in the next section."
   ]
  },
  {
   "cell_type": "code",
   "execution_count": 73,
   "metadata": {
    "collapsed": false,
    "deletable": true,
    "editable": true
   },
   "outputs": [
    {
     "name": "stdout",
     "output_type": "stream",
     "text": [
      "Checking the Training on a Single Batch...\n",
      "Epoch  1, CIFAR-10 Batch 1:  Loss: 2.292522430419922 - Validation Accuracy: 0.10499999821186065\n",
      "Epoch  2, CIFAR-10 Batch 1:  Loss: 2.169315814971924 - Validation Accuracy: 0.21279999911785125\n",
      "Epoch  3, CIFAR-10 Batch 1:  Loss: 2.1391091346740723 - Validation Accuracy: 0.2043999969959259\n",
      "Epoch  4, CIFAR-10 Batch 1:  Loss: 2.1062285900115967 - Validation Accuracy: 0.23739999830722808\n",
      "Epoch  5, CIFAR-10 Batch 1:  Loss: 2.076326370239258 - Validation Accuracy: 0.2523999989032745\n",
      "Epoch  6, CIFAR-10 Batch 1:  Loss: 2.054319143295288 - Validation Accuracy: 0.2636000096797943\n",
      "Epoch  7, CIFAR-10 Batch 1:  Loss: 2.0344831943511963 - Validation Accuracy: 0.28240000605583193\n",
      "Epoch  8, CIFAR-10 Batch 1:  Loss: 2.005075216293335 - Validation Accuracy: 0.2937999963760376\n",
      "Epoch  9, CIFAR-10 Batch 1:  Loss: 1.9689651727676392 - Validation Accuracy: 0.29539999961853025\n",
      "Epoch 10, CIFAR-10 Batch 1:  Loss: 1.9591622352600098 - Validation Accuracy: 0.28880000710487364\n",
      "Epoch 11, CIFAR-10 Batch 1:  Loss: 1.8795791864395142 - Validation Accuracy: 0.30660001039505\n",
      "Epoch 12, CIFAR-10 Batch 1:  Loss: 1.8563480377197266 - Validation Accuracy: 0.3309999942779541\n",
      "Epoch 13, CIFAR-10 Batch 1:  Loss: 1.7629750967025757 - Validation Accuracy: 0.3467999994754791\n",
      "Epoch 14, CIFAR-10 Batch 1:  Loss: 1.7092081308364868 - Validation Accuracy: 0.36459999680519106\n",
      "Epoch 15, CIFAR-10 Batch 1:  Loss: 1.7374221086502075 - Validation Accuracy: 0.3687999963760376\n",
      "Epoch 16, CIFAR-10 Batch 1:  Loss: 1.639587163925171 - Validation Accuracy: 0.3830000042915344\n",
      "Epoch 17, CIFAR-10 Batch 1:  Loss: 1.6138557195663452 - Validation Accuracy: 0.3907999932765961\n",
      "Epoch 18, CIFAR-10 Batch 1:  Loss: 1.5797604322433472 - Validation Accuracy: 0.4014000058174133\n",
      "Epoch 19, CIFAR-10 Batch 1:  Loss: 1.5696027278900146 - Validation Accuracy: 0.4019999921321869\n",
      "Epoch 20, CIFAR-10 Batch 1:  Loss: 1.5407097339630127 - Validation Accuracy: 0.4148000001907349\n",
      "Epoch 21, CIFAR-10 Batch 1:  Loss: 1.5084275007247925 - Validation Accuracy: 0.4281999945640564\n",
      "Epoch 22, CIFAR-10 Batch 1:  Loss: 1.486743450164795 - Validation Accuracy: 0.439000004529953\n",
      "Epoch 23, CIFAR-10 Batch 1:  Loss: 1.472456693649292 - Validation Accuracy: 0.44139998555183413\n",
      "Epoch 24, CIFAR-10 Batch 1:  Loss: 1.4775892496109009 - Validation Accuracy: 0.44299997091293336\n",
      "Epoch 25, CIFAR-10 Batch 1:  Loss: 1.467157006263733 - Validation Accuracy: 0.44259999990463256\n",
      "Epoch 26, CIFAR-10 Batch 1:  Loss: 1.4345481395721436 - Validation Accuracy: 0.4575999975204468\n",
      "Epoch 27, CIFAR-10 Batch 1:  Loss: 1.4127923250198364 - Validation Accuracy: 0.4680000126361847\n",
      "Epoch 28, CIFAR-10 Batch 1:  Loss: 1.396835207939148 - Validation Accuracy: 0.47179999351501467\n",
      "Epoch 29, CIFAR-10 Batch 1:  Loss: 1.3778780698776245 - Validation Accuracy: 0.4769999861717224\n",
      "Epoch 30, CIFAR-10 Batch 1:  Loss: 1.3562371730804443 - Validation Accuracy: 0.4833999991416931\n",
      "Epoch 31, CIFAR-10 Batch 1:  Loss: 1.3492653369903564 - Validation Accuracy: 0.4868000030517578\n",
      "Epoch 32, CIFAR-10 Batch 1:  Loss: 1.3469302654266357 - Validation Accuracy: 0.4887999951839447\n",
      "Epoch 33, CIFAR-10 Batch 1:  Loss: 1.345900058746338 - Validation Accuracy: 0.48939999341964724\n",
      "Epoch 34, CIFAR-10 Batch 1:  Loss: 1.3547017574310303 - Validation Accuracy: 0.48519999980926515\n",
      "Epoch 35, CIFAR-10 Batch 1:  Loss: 1.3177709579467773 - Validation Accuracy: 0.4981999933719635\n",
      "Epoch 36, CIFAR-10 Batch 1:  Loss: 1.3191856145858765 - Validation Accuracy: 0.49699999690055846\n",
      "Epoch 37, CIFAR-10 Batch 1:  Loss: 1.283791422843933 - Validation Accuracy: 0.504799997806549\n",
      "Epoch 38, CIFAR-10 Batch 1:  Loss: 1.275191307067871 - Validation Accuracy: 0.5087999939918518\n",
      "Epoch 39, CIFAR-10 Batch 1:  Loss: 1.2770553827285767 - Validation Accuracy: 0.5022000014781952\n",
      "Epoch 40, CIFAR-10 Batch 1:  Loss: 1.2540327310562134 - Validation Accuracy: 0.511400020122528\n",
      "Epoch 41, CIFAR-10 Batch 1:  Loss: 1.2343469858169556 - Validation Accuracy: 0.5187999784946442\n",
      "Epoch 42, CIFAR-10 Batch 1:  Loss: 1.2089815139770508 - Validation Accuracy: 0.5266000032424927\n",
      "Epoch 43, CIFAR-10 Batch 1:  Loss: 1.2292758226394653 - Validation Accuracy: 0.5195999860763549\n",
      "Epoch 44, CIFAR-10 Batch 1:  Loss: 1.2039397954940796 - Validation Accuracy: 0.5275999903678894\n",
      "Epoch 45, CIFAR-10 Batch 1:  Loss: 1.1699256896972656 - Validation Accuracy: 0.5374000072479248\n",
      "Epoch 46, CIFAR-10 Batch 1:  Loss: 1.1641219854354858 - Validation Accuracy: 0.5360000014305115\n",
      "Epoch 47, CIFAR-10 Batch 1:  Loss: 1.1670889854431152 - Validation Accuracy: 0.5339999675750733\n",
      "Epoch 48, CIFAR-10 Batch 1:  Loss: 1.1827392578125 - Validation Accuracy: 0.5293999910354614\n",
      "Epoch 49, CIFAR-10 Batch 1:  Loss: 1.1294746398925781 - Validation Accuracy: 0.5449999809265137\n",
      "Epoch 50, CIFAR-10 Batch 1:  Loss: 1.1112613677978516 - Validation Accuracy: 0.547599983215332\n"
     ]
    }
   ],
   "source": [
    "\"\"\"\n",
    "DON'T MODIFY ANYTHING IN THIS CELL\n",
    "\"\"\"\n",
    "print('Checking the Training on a Single Batch...')\n",
    "with tf.Session() as sess:\n",
    "    # Initializing the variables\n",
    "    sess.run(tf.global_variables_initializer())\n",
    "    \n",
    "    # Training cycle\n",
    "    for epoch in range(epochs):\n",
    "        batch_i = 1\n",
    "        for batch_features, batch_labels in helper.load_preprocess_training_batch(batch_i, batch_size):\n",
    "            train_neural_network(sess, optimizer, keep_probability, batch_features, batch_labels)\n",
    "        print('Epoch {:>2}, CIFAR-10 Batch {}:  '.format(epoch + 1, batch_i), end='')\n",
    "        print_stats(sess, batch_features, batch_labels, cost, accuracy)"
   ]
  },
  {
   "cell_type": "markdown",
   "metadata": {
    "deletable": true,
    "editable": true
   },
   "source": [
    "### Fully Train the Model\n",
    "Now that you got a good accuracy with a single CIFAR-10 batch, try it with all five batches."
   ]
  },
  {
   "cell_type": "code",
   "execution_count": 75,
   "metadata": {
    "collapsed": false,
    "deletable": true,
    "editable": true,
    "scrolled": true
   },
   "outputs": [
    {
     "name": "stdout",
     "output_type": "stream",
     "text": [
      "Training...\n",
      "Epoch  1, CIFAR-10 Batch 1:  Loss: 2.284740447998047 - Validation Accuracy: 0.10479999780654907\n",
      "Epoch  1, CIFAR-10 Batch 2:  Loss: 2.1325201988220215 - Validation Accuracy: 0.20159999430179595\n",
      "Epoch  1, CIFAR-10 Batch 3:  Loss: 2.1134464740753174 - Validation Accuracy: 0.22140000760555267\n",
      "Epoch  1, CIFAR-10 Batch 4:  Loss: 2.041402578353882 - Validation Accuracy: 0.2391999989748001\n",
      "Epoch  1, CIFAR-10 Batch 5:  Loss: 2.029313802719116 - Validation Accuracy: 0.2451999992132187\n",
      "Epoch  2, CIFAR-10 Batch 1:  Loss: 2.066835641860962 - Validation Accuracy: 0.26480000019073485\n",
      "Epoch  2, CIFAR-10 Batch 2:  Loss: 2.0177245140075684 - Validation Accuracy: 0.2747999966144562\n",
      "Epoch  2, CIFAR-10 Batch 3:  Loss: 1.9863719940185547 - Validation Accuracy: 0.26779999732971194\n",
      "Epoch  2, CIFAR-10 Batch 4:  Loss: 1.98020601272583 - Validation Accuracy: 0.2787999987602234\n",
      "Epoch  2, CIFAR-10 Batch 5:  Loss: 1.9472535848617554 - Validation Accuracy: 0.2849999964237213\n",
      "Epoch  3, CIFAR-10 Batch 1:  Loss: 1.9999611377716064 - Validation Accuracy: 0.28479999899864195\n",
      "Epoch  3, CIFAR-10 Batch 2:  Loss: 1.9028644561767578 - Validation Accuracy: 0.3094000041484833\n",
      "Epoch  3, CIFAR-10 Batch 3:  Loss: 1.8910026550292969 - Validation Accuracy: 0.30440000295639036\n",
      "Epoch  3, CIFAR-10 Batch 4:  Loss: 1.8080430030822754 - Validation Accuracy: 0.3124000012874603\n",
      "Epoch  3, CIFAR-10 Batch 5:  Loss: 1.7757662534713745 - Validation Accuracy: 0.3507999837398529\n",
      "Epoch  4, CIFAR-10 Batch 1:  Loss: 1.721807837486267 - Validation Accuracy: 0.37579998970031736\n",
      "Epoch  4, CIFAR-10 Batch 2:  Loss: 1.6968717575073242 - Validation Accuracy: 0.376800000667572\n",
      "Epoch  4, CIFAR-10 Batch 3:  Loss: 1.5962207317352295 - Validation Accuracy: 0.3786000072956085\n",
      "Epoch  4, CIFAR-10 Batch 4:  Loss: 1.608921766281128 - Validation Accuracy: 0.3906000077724457\n",
      "Epoch  4, CIFAR-10 Batch 5:  Loss: 1.637233853340149 - Validation Accuracy: 0.4084000110626221\n",
      "Epoch  5, CIFAR-10 Batch 1:  Loss: 1.5975641012191772 - Validation Accuracy: 0.4204000115394592\n",
      "Epoch  5, CIFAR-10 Batch 2:  Loss: 1.5965057611465454 - Validation Accuracy: 0.41719998717308043\n",
      "Epoch  5, CIFAR-10 Batch 3:  Loss: 1.486663579940796 - Validation Accuracy: 0.4241999864578247\n",
      "Epoch  5, CIFAR-10 Batch 4:  Loss: 1.522230863571167 - Validation Accuracy: 0.4331999897956848\n",
      "Epoch  5, CIFAR-10 Batch 5:  Loss: 1.5590733289718628 - Validation Accuracy: 0.4462000072002411\n",
      "Epoch  6, CIFAR-10 Batch 1:  Loss: 1.5335499048233032 - Validation Accuracy: 0.43779999017715454\n",
      "Epoch  6, CIFAR-10 Batch 2:  Loss: 1.5442959070205688 - Validation Accuracy: 0.44100000858306887\n",
      "Epoch  6, CIFAR-10 Batch 3:  Loss: 1.4288139343261719 - Validation Accuracy: 0.4525999903678894\n",
      "Epoch  6, CIFAR-10 Batch 4:  Loss: 1.45866060256958 - Validation Accuracy: 0.459199982881546\n",
      "Epoch  6, CIFAR-10 Batch 5:  Loss: 1.494666337966919 - Validation Accuracy: 0.46480000019073486\n",
      "Epoch  7, CIFAR-10 Batch 1:  Loss: 1.474402666091919 - Validation Accuracy: 0.4643999695777893\n",
      "Epoch  7, CIFAR-10 Batch 2:  Loss: 1.5100250244140625 - Validation Accuracy: 0.45500001311302185\n",
      "Epoch  7, CIFAR-10 Batch 3:  Loss: 1.3835484981536865 - Validation Accuracy: 0.4699999988079071\n",
      "Epoch  7, CIFAR-10 Batch 4:  Loss: 1.4079958200454712 - Validation Accuracy: 0.47799999713897706\n",
      "Epoch  7, CIFAR-10 Batch 5:  Loss: 1.4487214088439941 - Validation Accuracy: 0.47879999279975893\n",
      "Epoch  8, CIFAR-10 Batch 1:  Loss: 1.424904227256775 - Validation Accuracy: 0.48339998722076416\n",
      "Epoch  8, CIFAR-10 Batch 2:  Loss: 1.4975148439407349 - Validation Accuracy: 0.45079998970031737\n",
      "Epoch  8, CIFAR-10 Batch 3:  Loss: 1.3620067834854126 - Validation Accuracy: 0.4755999743938446\n",
      "Epoch  8, CIFAR-10 Batch 4:  Loss: 1.3501015901565552 - Validation Accuracy: 0.49679999351501464\n",
      "Epoch  8, CIFAR-10 Batch 5:  Loss: 1.4103907346725464 - Validation Accuracy: 0.484799987077713\n",
      "Epoch  9, CIFAR-10 Batch 1:  Loss: 1.38926362991333 - Validation Accuracy: 0.49259998798370364\n",
      "Epoch  9, CIFAR-10 Batch 2:  Loss: 1.4044744968414307 - Validation Accuracy: 0.4863999843597412\n",
      "Epoch  9, CIFAR-10 Batch 3:  Loss: 1.3005499839782715 - Validation Accuracy: 0.4953999757766724\n",
      "Epoch  9, CIFAR-10 Batch 4:  Loss: 1.303768515586853 - Validation Accuracy: 0.5070000112056732\n",
      "Epoch  9, CIFAR-10 Batch 5:  Loss: 1.3452903032302856 - Validation Accuracy: 0.5102000057697296\n",
      "Epoch 10, CIFAR-10 Batch 1:  Loss: 1.3502646684646606 - Validation Accuracy: 0.5037999987602234\n",
      "Epoch 10, CIFAR-10 Batch 2:  Loss: 1.391392707824707 - Validation Accuracy: 0.48700000047683717\n",
      "Epoch 10, CIFAR-10 Batch 3:  Loss: 1.2516149282455444 - Validation Accuracy: 0.5177999854087829\n",
      "Epoch 10, CIFAR-10 Batch 4:  Loss: 1.2602713108062744 - Validation Accuracy: 0.5160000085830688\n",
      "Epoch 10, CIFAR-10 Batch 5:  Loss: 1.3030282258987427 - Validation Accuracy: 0.5239999890327454\n",
      "Epoch 11, CIFAR-10 Batch 1:  Loss: 1.2910377979278564 - Validation Accuracy: 0.5230000019073486\n",
      "Epoch 11, CIFAR-10 Batch 2:  Loss: 1.3394157886505127 - Validation Accuracy: 0.5076000034809113\n",
      "Epoch 11, CIFAR-10 Batch 3:  Loss: 1.218754768371582 - Validation Accuracy: 0.53160001039505\n",
      "Epoch 11, CIFAR-10 Batch 4:  Loss: 1.2165879011154175 - Validation Accuracy: 0.5332000136375428\n",
      "Epoch 11, CIFAR-10 Batch 5:  Loss: 1.254747748374939 - Validation Accuracy: 0.5411999821662903\n",
      "Epoch 12, CIFAR-10 Batch 1:  Loss: 1.2561520338058472 - Validation Accuracy: 0.5324000120162964\n",
      "Epoch 12, CIFAR-10 Batch 2:  Loss: 1.2955665588378906 - Validation Accuracy: 0.5271999835968018\n",
      "Epoch 12, CIFAR-10 Batch 3:  Loss: 1.198593258857727 - Validation Accuracy: 0.5389999866485595\n",
      "Epoch 12, CIFAR-10 Batch 4:  Loss: 1.1828303337097168 - Validation Accuracy: 0.547599995136261\n",
      "Epoch 12, CIFAR-10 Batch 5:  Loss: 1.2405972480773926 - Validation Accuracy: 0.5434000015258789\n",
      "Epoch 13, CIFAR-10 Batch 1:  Loss: 1.2028695344924927 - Validation Accuracy: 0.5495999813079834\n",
      "Epoch 13, CIFAR-10 Batch 2:  Loss: 1.2364065647125244 - Validation Accuracy: 0.5531999945640564\n",
      "Epoch 13, CIFAR-10 Batch 3:  Loss: 1.1451388597488403 - Validation Accuracy: 0.5574000000953674\n",
      "Epoch 13, CIFAR-10 Batch 4:  Loss: 1.1334335803985596 - Validation Accuracy: 0.5630000352859497\n",
      "Epoch 13, CIFAR-10 Batch 5:  Loss: 1.183453917503357 - Validation Accuracy: 0.5625999808311463\n",
      "Epoch 14, CIFAR-10 Batch 1:  Loss: 1.157930612564087 - Validation Accuracy: 0.5643999814987183\n",
      "Epoch 14, CIFAR-10 Batch 2:  Loss: 1.1810075044631958 - Validation Accuracy: 0.5748000144958496\n",
      "Epoch 14, CIFAR-10 Batch 3:  Loss: 1.113994836807251 - Validation Accuracy: 0.5661999940872192\n",
      "Epoch 14, CIFAR-10 Batch 4:  Loss: 1.0998561382293701 - Validation Accuracy: 0.5736000180244446\n",
      "Epoch 14, CIFAR-10 Batch 5:  Loss: 1.147667646408081 - Validation Accuracy: 0.5766000032424927\n",
      "Epoch 15, CIFAR-10 Batch 1:  Loss: 1.1238576173782349 - Validation Accuracy: 0.5761999964714051\n",
      "Epoch 15, CIFAR-10 Batch 2:  Loss: 1.140017032623291 - Validation Accuracy: 0.5863999962806702\n",
      "Epoch 15, CIFAR-10 Batch 3:  Loss: 1.0806357860565186 - Validation Accuracy: 0.5760000228881836\n",
      "Epoch 15, CIFAR-10 Batch 4:  Loss: 1.0746121406555176 - Validation Accuracy: 0.5859999895095825\n",
      "Epoch 15, CIFAR-10 Batch 5:  Loss: 1.131569266319275 - Validation Accuracy: 0.5736000180244446\n",
      "Epoch 16, CIFAR-10 Batch 1:  Loss: 1.0988857746124268 - Validation Accuracy: 0.5805999755859375\n",
      "Epoch 16, CIFAR-10 Batch 2:  Loss: 1.1343979835510254 - Validation Accuracy: 0.5858000040054321\n",
      "Epoch 16, CIFAR-10 Batch 3:  Loss: 1.070302128791809 - Validation Accuracy: 0.5832000136375427\n",
      "Epoch 16, CIFAR-10 Batch 4:  Loss: 1.0321369171142578 - Validation Accuracy: 0.5958000063896179\n",
      "Epoch 16, CIFAR-10 Batch 5:  Loss: 1.0614417791366577 - Validation Accuracy: 0.6008000016212464\n",
      "Epoch 17, CIFAR-10 Batch 1:  Loss: 1.0517232418060303 - Validation Accuracy: 0.6008000135421753\n",
      "Epoch 17, CIFAR-10 Batch 2:  Loss: 1.083011507987976 - Validation Accuracy: 0.6034000039100647\n",
      "Epoch 17, CIFAR-10 Batch 3:  Loss: 1.014190912246704 - Validation Accuracy: 0.6056000232696533\n",
      "Epoch 17, CIFAR-10 Batch 4:  Loss: 1.0265355110168457 - Validation Accuracy: 0.5944000005722045\n",
      "Epoch 17, CIFAR-10 Batch 5:  Loss: 1.059892177581787 - Validation Accuracy: 0.5941999912261963\n",
      "Epoch 18, CIFAR-10 Batch 1:  Loss: 1.049378752708435 - Validation Accuracy: 0.5945999979972839\n",
      "Epoch 18, CIFAR-10 Batch 2:  Loss: 1.0697356462478638 - Validation Accuracy: 0.6070000052452087\n",
      "Epoch 18, CIFAR-10 Batch 3:  Loss: 1.0098881721496582 - Validation Accuracy: 0.5991999864578247\n",
      "Epoch 18, CIFAR-10 Batch 4:  Loss: 0.9872464537620544 - Validation Accuracy: 0.6089999914169312\n",
      "Epoch 18, CIFAR-10 Batch 5:  Loss: 1.0084307193756104 - Validation Accuracy: 0.6085999965667724\n",
      "Epoch 19, CIFAR-10 Batch 1:  Loss: 1.0045242309570312 - Validation Accuracy: 0.6141999959945679\n",
      "Epoch 19, CIFAR-10 Batch 2:  Loss: 1.048176646232605 - Validation Accuracy: 0.606599998474121\n",
      "Epoch 19, CIFAR-10 Batch 3:  Loss: 0.9815196990966797 - Validation Accuracy: 0.6083999872207642\n",
      "Epoch 19, CIFAR-10 Batch 4:  Loss: 0.9577353000640869 - Validation Accuracy: 0.6156000375747681\n",
      "Epoch 19, CIFAR-10 Batch 5:  Loss: 0.9860154390335083 - Validation Accuracy: 0.6191999912261963\n",
      "Epoch 20, CIFAR-10 Batch 1:  Loss: 0.9971426725387573 - Validation Accuracy: 0.6154000043869019\n",
      "Epoch 20, CIFAR-10 Batch 2:  Loss: 1.0113811492919922 - Validation Accuracy: 0.6154000163078308\n",
      "Epoch 20, CIFAR-10 Batch 3:  Loss: 0.9721208214759827 - Validation Accuracy: 0.6057999849319458\n",
      "Epoch 20, CIFAR-10 Batch 4:  Loss: 0.9319794178009033 - Validation Accuracy: 0.6251999974250794\n",
      "Epoch 20, CIFAR-10 Batch 5:  Loss: 0.9660598039627075 - Validation Accuracy: 0.6230000138282776\n",
      "Epoch 21, CIFAR-10 Batch 1:  Loss: 0.965186595916748 - Validation Accuracy: 0.6249999880790711\n",
      "Epoch 21, CIFAR-10 Batch 2:  Loss: 1.0006659030914307 - Validation Accuracy: 0.6121999740600585\n",
      "Epoch 21, CIFAR-10 Batch 3:  Loss: 0.9295366406440735 - Validation Accuracy: 0.6235999822616577\n",
      "Epoch 21, CIFAR-10 Batch 4:  Loss: 0.9212014079093933 - Validation Accuracy: 0.6310000061988831\n",
      "Epoch 21, CIFAR-10 Batch 5:  Loss: 0.9391754865646362 - Validation Accuracy: 0.6318000078201294\n",
      "Epoch 22, CIFAR-10 Batch 1:  Loss: 0.9554238319396973 - Validation Accuracy: 0.6277999997138977\n",
      "Epoch 22, CIFAR-10 Batch 2:  Loss: 0.9809166193008423 - Validation Accuracy: 0.6242000102996826\n",
      "Epoch 22, CIFAR-10 Batch 3:  Loss: 0.9141167402267456 - Validation Accuracy: 0.6310000061988831\n",
      "Epoch 22, CIFAR-10 Batch 4:  Loss: 0.8980094194412231 - Validation Accuracy: 0.6329999923706054\n",
      "Epoch 22, CIFAR-10 Batch 5:  Loss: 0.9298584461212158 - Validation Accuracy: 0.6366000056266785\n",
      "Epoch 23, CIFAR-10 Batch 1:  Loss: 0.9388889074325562 - Validation Accuracy: 0.6348000049591065\n",
      "Epoch 23, CIFAR-10 Batch 2:  Loss: 0.9970356225967407 - Validation Accuracy: 0.6119999885559082\n",
      "Epoch 23, CIFAR-10 Batch 3:  Loss: 0.9127920866012573 - Validation Accuracy: 0.6297999858856201\n",
      "Epoch 23, CIFAR-10 Batch 4:  Loss: 0.8983573913574219 - Validation Accuracy: 0.6315999984741211\n",
      "Epoch 23, CIFAR-10 Batch 5:  Loss: 0.9183605909347534 - Validation Accuracy: 0.6371999979019165\n",
      "Epoch 24, CIFAR-10 Batch 1:  Loss: 0.900780200958252 - Validation Accuracy: 0.646399974822998\n",
      "Epoch 24, CIFAR-10 Batch 2:  Loss: 0.9248902797698975 - Validation Accuracy: 0.6347999691963195\n",
      "Epoch 24, CIFAR-10 Batch 3:  Loss: 0.8777719736099243 - Validation Accuracy: 0.6365999817848206\n",
      "Epoch 24, CIFAR-10 Batch 4:  Loss: 0.8776721954345703 - Validation Accuracy: 0.6363999962806701\n",
      "Epoch 24, CIFAR-10 Batch 5:  Loss: 0.9052697420120239 - Validation Accuracy: 0.6398000121116638\n",
      "Epoch 25, CIFAR-10 Batch 1:  Loss: 0.9025777578353882 - Validation Accuracy: 0.646399998664856\n",
      "Epoch 25, CIFAR-10 Batch 2:  Loss: 0.928433895111084 - Validation Accuracy: 0.6295999884605408\n",
      "Epoch 25, CIFAR-10 Batch 3:  Loss: 0.8712459802627563 - Validation Accuracy: 0.6399999737739563\n",
      "Epoch 25, CIFAR-10 Batch 4:  Loss: 0.8572065830230713 - Validation Accuracy: 0.6419999957084656\n",
      "Epoch 25, CIFAR-10 Batch 5:  Loss: 0.8646888732910156 - Validation Accuracy: 0.6497999787330627\n",
      "Epoch 26, CIFAR-10 Batch 1:  Loss: 0.9000252485275269 - Validation Accuracy: 0.6528000116348267\n",
      "Epoch 26, CIFAR-10 Batch 2:  Loss: 0.895175576210022 - Validation Accuracy: 0.6468000054359436\n",
      "Epoch 26, CIFAR-10 Batch 3:  Loss: 0.8856462836265564 - Validation Accuracy: 0.6333999872207642\n",
      "Epoch 26, CIFAR-10 Batch 4:  Loss: 0.8411077260971069 - Validation Accuracy: 0.6435999989509582\n",
      "Epoch 26, CIFAR-10 Batch 5:  Loss: 0.8501802682876587 - Validation Accuracy: 0.6515999794006347\n",
      "Epoch 27, CIFAR-10 Batch 1:  Loss: 0.8660411238670349 - Validation Accuracy: 0.6559999823570252\n",
      "Epoch 27, CIFAR-10 Batch 2:  Loss: 0.8902661800384521 - Validation Accuracy: 0.6331999897956848\n",
      "Epoch 27, CIFAR-10 Batch 3:  Loss: 0.860529899597168 - Validation Accuracy: 0.6380000114440918\n",
      "Epoch 27, CIFAR-10 Batch 4:  Loss: 0.8448945879936218 - Validation Accuracy: 0.6447999715805054\n",
      "Epoch 27, CIFAR-10 Batch 5:  Loss: 0.835044264793396 - Validation Accuracy: 0.6570000290870667\n",
      "Epoch 28, CIFAR-10 Batch 1:  Loss: 0.8533080816268921 - Validation Accuracy: 0.6564000129699707\n",
      "Epoch 28, CIFAR-10 Batch 2:  Loss: 0.8881634473800659 - Validation Accuracy: 0.6459999918937683\n",
      "Epoch 28, CIFAR-10 Batch 3:  Loss: 0.8266647458076477 - Validation Accuracy: 0.6589999794960022\n",
      "Epoch 28, CIFAR-10 Batch 4:  Loss: 0.8302781581878662 - Validation Accuracy: 0.6546000123023987\n",
      "Epoch 28, CIFAR-10 Batch 5:  Loss: 0.8240270614624023 - Validation Accuracy: 0.6585999846458435\n",
      "Epoch 29, CIFAR-10 Batch 1:  Loss: 0.8433299660682678 - Validation Accuracy: 0.653599989414215\n",
      "Epoch 29, CIFAR-10 Batch 2:  Loss: 0.8795722723007202 - Validation Accuracy: 0.6414000034332276\n",
      "Epoch 29, CIFAR-10 Batch 3:  Loss: 0.8229588866233826 - Validation Accuracy: 0.6579999923706055\n",
      "Epoch 29, CIFAR-10 Batch 4:  Loss: 0.810036838054657 - Validation Accuracy: 0.6521999835968018\n",
      "Epoch 29, CIFAR-10 Batch 5:  Loss: 0.8174588680267334 - Validation Accuracy: 0.6541999816894531\n",
      "Epoch 30, CIFAR-10 Batch 1:  Loss: 0.8329427242279053 - Validation Accuracy: 0.6477999806404113\n",
      "Epoch 30, CIFAR-10 Batch 2:  Loss: 0.8339217305183411 - Validation Accuracy: 0.6613999962806701\n",
      "Epoch 30, CIFAR-10 Batch 3:  Loss: 0.8049499988555908 - Validation Accuracy: 0.6598000049591064\n",
      "Epoch 30, CIFAR-10 Batch 4:  Loss: 0.8103785514831543 - Validation Accuracy: 0.6500000119209289\n",
      "Epoch 30, CIFAR-10 Batch 5:  Loss: 0.7944256663322449 - Validation Accuracy: 0.6621999740600586\n",
      "Epoch 31, CIFAR-10 Batch 1:  Loss: 0.8157171607017517 - Validation Accuracy: 0.6521999716758728\n",
      "Epoch 31, CIFAR-10 Batch 2:  Loss: 0.8160059452056885 - Validation Accuracy: 0.6653999924659729\n",
      "Epoch 31, CIFAR-10 Batch 3:  Loss: 0.8003419041633606 - Validation Accuracy: 0.6598000288009643\n",
      "Epoch 31, CIFAR-10 Batch 4:  Loss: 0.7897524833679199 - Validation Accuracy: 0.6587999939918519\n",
      "Epoch 31, CIFAR-10 Batch 5:  Loss: 0.7813760042190552 - Validation Accuracy: 0.6607999920845031\n",
      "Epoch 32, CIFAR-10 Batch 1:  Loss: 0.7859997153282166 - Validation Accuracy: 0.6654000163078309\n",
      "Epoch 32, CIFAR-10 Batch 2:  Loss: 0.8050716519355774 - Validation Accuracy: 0.665999972820282\n",
      "Epoch 32, CIFAR-10 Batch 3:  Loss: 0.7874499559402466 - Validation Accuracy: 0.6623999834060669\n",
      "Epoch 32, CIFAR-10 Batch 4:  Loss: 0.7722413539886475 - Validation Accuracy: 0.6585999727249146\n",
      "Epoch 32, CIFAR-10 Batch 5:  Loss: 0.7593687772750854 - Validation Accuracy: 0.669599997997284\n",
      "Epoch 33, CIFAR-10 Batch 1:  Loss: 0.7785554528236389 - Validation Accuracy: 0.6629999995231628\n",
      "Epoch 33, CIFAR-10 Batch 2:  Loss: 0.7950072884559631 - Validation Accuracy: 0.6661999821662903\n",
      "Epoch 33, CIFAR-10 Batch 3:  Loss: 0.7854220867156982 - Validation Accuracy: 0.6579999923706055\n",
      "Epoch 33, CIFAR-10 Batch 4:  Loss: 0.7599713206291199 - Validation Accuracy: 0.6638000011444092\n",
      "Epoch 33, CIFAR-10 Batch 5:  Loss: 0.7576299905776978 - Validation Accuracy: 0.6607999801635742\n",
      "Epoch 34, CIFAR-10 Batch 1:  Loss: 0.7523848414421082 - Validation Accuracy: 0.6697999954223632\n",
      "Epoch 34, CIFAR-10 Batch 2:  Loss: 0.7815303802490234 - Validation Accuracy: 0.6729999661445618\n",
      "Epoch 34, CIFAR-10 Batch 3:  Loss: 0.7731997966766357 - Validation Accuracy: 0.6610000133514404\n",
      "Epoch 34, CIFAR-10 Batch 4:  Loss: 0.7556652426719666 - Validation Accuracy: 0.6594000101089478\n",
      "Epoch 34, CIFAR-10 Batch 5:  Loss: 0.7346687316894531 - Validation Accuracy: 0.6693999767303467\n",
      "Epoch 35, CIFAR-10 Batch 1:  Loss: 0.7428896427154541 - Validation Accuracy: 0.6635999917984009\n",
      "Epoch 35, CIFAR-10 Batch 2:  Loss: 0.7708350419998169 - Validation Accuracy: 0.6702000021934509\n",
      "Epoch 35, CIFAR-10 Batch 3:  Loss: 0.7724858522415161 - Validation Accuracy: 0.6532000184059144\n",
      "Epoch 35, CIFAR-10 Batch 4:  Loss: 0.7382779121398926 - Validation Accuracy: 0.6617999792098999\n",
      "Epoch 35, CIFAR-10 Batch 5:  Loss: 0.7286846041679382 - Validation Accuracy: 0.6688000082969665\n",
      "Epoch 36, CIFAR-10 Batch 1:  Loss: 0.7289516925811768 - Validation Accuracy: 0.6696000099182129\n",
      "Epoch 36, CIFAR-10 Batch 2:  Loss: 0.7578598856925964 - Validation Accuracy: 0.674999988079071\n",
      "Epoch 36, CIFAR-10 Batch 3:  Loss: 0.7678348422050476 - Validation Accuracy: 0.655400013923645\n",
      "Epoch 36, CIFAR-10 Batch 4:  Loss: 0.7363656759262085 - Validation Accuracy: 0.6601999878883362\n",
      "Epoch 36, CIFAR-10 Batch 5:  Loss: 0.7133119702339172 - Validation Accuracy: 0.6734000086784363\n",
      "Epoch 37, CIFAR-10 Batch 1:  Loss: 0.718161404132843 - Validation Accuracy: 0.6740000009536743\n",
      "Epoch 37, CIFAR-10 Batch 2:  Loss: 0.7641705274581909 - Validation Accuracy: 0.6748000025749207\n",
      "Epoch 37, CIFAR-10 Batch 3:  Loss: 0.7459732294082642 - Validation Accuracy: 0.6608000040054322\n",
      "Epoch 37, CIFAR-10 Batch 4:  Loss: 0.7203189134597778 - Validation Accuracy: 0.6670000076293945\n",
      "Epoch 37, CIFAR-10 Batch 5:  Loss: 0.7128461003303528 - Validation Accuracy: 0.669599997997284\n",
      "Epoch 38, CIFAR-10 Batch 1:  Loss: 0.7066511511802673 - Validation Accuracy: 0.6759999990463257\n",
      "Epoch 38, CIFAR-10 Batch 2:  Loss: 0.740219235420227 - Validation Accuracy: 0.678000009059906\n",
      "Epoch 38, CIFAR-10 Batch 3:  Loss: 0.74593585729599 - Validation Accuracy: 0.6564000129699707\n",
      "Epoch 38, CIFAR-10 Batch 4:  Loss: 0.7119235396385193 - Validation Accuracy: 0.6651999950408936\n",
      "Epoch 38, CIFAR-10 Batch 5:  Loss: 0.6955496072769165 - Validation Accuracy: 0.6708000183105469\n",
      "Epoch 39, CIFAR-10 Batch 1:  Loss: 0.6982390284538269 - Validation Accuracy: 0.6793999910354614\n",
      "Epoch 39, CIFAR-10 Batch 2:  Loss: 0.7431542277336121 - Validation Accuracy: 0.6718000292778015\n",
      "Epoch 39, CIFAR-10 Batch 3:  Loss: 0.7474322319030762 - Validation Accuracy: 0.6562000036239624\n",
      "Epoch 39, CIFAR-10 Batch 4:  Loss: 0.7069194316864014 - Validation Accuracy: 0.6710000038146973\n",
      "Epoch 39, CIFAR-10 Batch 5:  Loss: 0.7058786153793335 - Validation Accuracy: 0.6703999876976013\n",
      "Epoch 40, CIFAR-10 Batch 1:  Loss: 0.687105119228363 - Validation Accuracy: 0.6803999900817871\n",
      "Epoch 40, CIFAR-10 Batch 2:  Loss: 0.7456974983215332 - Validation Accuracy: 0.6716000080108643\n",
      "Epoch 40, CIFAR-10 Batch 3:  Loss: 0.7142438292503357 - Validation Accuracy: 0.6726000189781189\n",
      "Epoch 40, CIFAR-10 Batch 4:  Loss: 0.7021422386169434 - Validation Accuracy: 0.6642000198364257\n",
      "Epoch 40, CIFAR-10 Batch 5:  Loss: 0.6794995069503784 - Validation Accuracy: 0.6804000020027161\n",
      "Epoch 41, CIFAR-10 Batch 1:  Loss: 0.7116814851760864 - Validation Accuracy: 0.6675999760627747\n",
      "Epoch 41, CIFAR-10 Batch 2:  Loss: 0.7564408183097839 - Validation Accuracy: 0.6685999751091003\n",
      "Epoch 41, CIFAR-10 Batch 3:  Loss: 0.7492408752441406 - Validation Accuracy: 0.6657999873161315\n",
      "Epoch 41, CIFAR-10 Batch 4:  Loss: 0.7254831194877625 - Validation Accuracy: 0.6579999923706055\n",
      "Epoch 41, CIFAR-10 Batch 5:  Loss: 0.6973987817764282 - Validation Accuracy: 0.6698000073432923\n",
      "Epoch 42, CIFAR-10 Batch 1:  Loss: 0.6874732971191406 - Validation Accuracy: 0.673199987411499\n",
      "Epoch 42, CIFAR-10 Batch 2:  Loss: 0.7466908693313599 - Validation Accuracy: 0.6755999803543091\n",
      "Epoch 42, CIFAR-10 Batch 3:  Loss: 0.73057621717453 - Validation Accuracy: 0.6680000185966491\n",
      "Epoch 42, CIFAR-10 Batch 4:  Loss: 0.7154102325439453 - Validation Accuracy: 0.6598000407218934\n",
      "Epoch 42, CIFAR-10 Batch 5:  Loss: 0.6798645257949829 - Validation Accuracy: 0.6716000080108643\n",
      "Epoch 43, CIFAR-10 Batch 1:  Loss: 0.6817330718040466 - Validation Accuracy: 0.6779999732971191\n",
      "Epoch 43, CIFAR-10 Batch 2:  Loss: 0.7254956364631653 - Validation Accuracy: 0.678600013256073\n",
      "Epoch 43, CIFAR-10 Batch 3:  Loss: 0.7279869914054871 - Validation Accuracy: 0.6721999645233154\n",
      "Epoch 43, CIFAR-10 Batch 4:  Loss: 0.6982832551002502 - Validation Accuracy: 0.6601999998092651\n",
      "Epoch 43, CIFAR-10 Batch 5:  Loss: 0.6684810519218445 - Validation Accuracy: 0.6687999725341797\n",
      "Epoch 44, CIFAR-10 Batch 1:  Loss: 0.6970095634460449 - Validation Accuracy: 0.6654000043869018\n",
      "Epoch 44, CIFAR-10 Batch 2:  Loss: 0.7098721861839294 - Validation Accuracy: 0.6864000201225281\n",
      "Epoch 44, CIFAR-10 Batch 3:  Loss: 0.7156288027763367 - Validation Accuracy: 0.6738000035285949\n",
      "Epoch 44, CIFAR-10 Batch 4:  Loss: 0.676091730594635 - Validation Accuracy: 0.6709999918937684\n",
      "Epoch 44, CIFAR-10 Batch 5:  Loss: 0.6523951888084412 - Validation Accuracy: 0.6674000382423401\n",
      "Epoch 45, CIFAR-10 Batch 1:  Loss: 0.6890125870704651 - Validation Accuracy: 0.6724000334739685\n",
      "Epoch 45, CIFAR-10 Batch 2:  Loss: 0.6874036192893982 - Validation Accuracy: 0.6878000020980835\n",
      "Epoch 45, CIFAR-10 Batch 3:  Loss: 0.6987159848213196 - Validation Accuracy: 0.6747999668121338\n",
      "Epoch 45, CIFAR-10 Batch 4:  Loss: 0.6623209714889526 - Validation Accuracy: 0.677400016784668\n",
      "Epoch 45, CIFAR-10 Batch 5:  Loss: 0.6414353251457214 - Validation Accuracy: 0.6776000022888183\n",
      "Epoch 46, CIFAR-10 Batch 1:  Loss: 0.6855630874633789 - Validation Accuracy: 0.6709999918937684\n",
      "Epoch 46, CIFAR-10 Batch 2:  Loss: 0.6835702657699585 - Validation Accuracy: 0.6894000053405762\n",
      "Epoch 46, CIFAR-10 Batch 3:  Loss: 0.6932060718536377 - Validation Accuracy: 0.675600004196167\n",
      "Epoch 46, CIFAR-10 Batch 4:  Loss: 0.6564358472824097 - Validation Accuracy: 0.6753999948501587\n",
      "Epoch 46, CIFAR-10 Batch 5:  Loss: 0.6330987215042114 - Validation Accuracy: 0.6775999903678894\n",
      "Epoch 47, CIFAR-10 Batch 1:  Loss: 0.6823573112487793 - Validation Accuracy: 0.6667999863624573\n",
      "Epoch 47, CIFAR-10 Batch 2:  Loss: 0.6748710870742798 - Validation Accuracy: 0.6897999882698059\n",
      "Epoch 47, CIFAR-10 Batch 3:  Loss: 0.692543625831604 - Validation Accuracy: 0.6771999955177307\n",
      "Epoch 47, CIFAR-10 Batch 4:  Loss: 0.6574889421463013 - Validation Accuracy: 0.6769999980926513\n",
      "Epoch 47, CIFAR-10 Batch 5:  Loss: 0.6498153209686279 - Validation Accuracy: 0.6732000112533569\n",
      "Epoch 48, CIFAR-10 Batch 1:  Loss: 0.6590012311935425 - Validation Accuracy: 0.6865999817848205\n",
      "Epoch 48, CIFAR-10 Batch 2:  Loss: 0.6743320822715759 - Validation Accuracy: 0.6948000073432923\n",
      "Epoch 48, CIFAR-10 Batch 3:  Loss: 0.6846290230751038 - Validation Accuracy: 0.6787999749183655\n",
      "Epoch 48, CIFAR-10 Batch 4:  Loss: 0.6623139381408691 - Validation Accuracy: 0.6775999784469604\n",
      "Epoch 48, CIFAR-10 Batch 5:  Loss: 0.63135826587677 - Validation Accuracy: 0.6740000009536743\n",
      "Epoch 49, CIFAR-10 Batch 1:  Loss: 0.6483705043792725 - Validation Accuracy: 0.6929999828338623\n",
      "Epoch 49, CIFAR-10 Batch 2:  Loss: 0.6547881364822388 - Validation Accuracy: 0.6950000166893006\n",
      "Epoch 49, CIFAR-10 Batch 3:  Loss: 0.6778748631477356 - Validation Accuracy: 0.6760000228881836\n",
      "Epoch 49, CIFAR-10 Batch 4:  Loss: 0.64060378074646 - Validation Accuracy: 0.6817999720573426\n",
      "Epoch 49, CIFAR-10 Batch 5:  Loss: 0.6179067492485046 - Validation Accuracy: 0.6829999804496765\n",
      "Epoch 50, CIFAR-10 Batch 1:  Loss: 0.6419206857681274 - Validation Accuracy: 0.6901999950408936\n",
      "Epoch 50, CIFAR-10 Batch 2:  Loss: 0.6489347219467163 - Validation Accuracy: 0.692799985408783\n",
      "Epoch 50, CIFAR-10 Batch 3:  Loss: 0.6816858649253845 - Validation Accuracy: 0.6750000238418579\n",
      "Epoch 50, CIFAR-10 Batch 4:  Loss: 0.6126150488853455 - Validation Accuracy: 0.6902000188827515\n",
      "Epoch 50, CIFAR-10 Batch 5:  Loss: 0.6132331490516663 - Validation Accuracy: 0.6836000084877014\n"
     ]
    }
   ],
   "source": [
    "\"\"\"\n",
    "DON'T MODIFY ANYTHING IN THIS CELL\n",
    "\"\"\"\n",
    "save_model_path = './image_classification'\n",
    "\n",
    "print('Training...')\n",
    "with tf.Session() as sess:\n",
    "    # Initializing the variables\n",
    "    sess.run(tf.global_variables_initializer())\n",
    "    \n",
    "    # Training cycle\n",
    "    for epoch in range(epochs):\n",
    "        # Loop over all batches\n",
    "        n_batches = 5\n",
    "        for batch_i in range(1, n_batches + 1):\n",
    "            for batch_features, batch_labels in helper.load_preprocess_training_batch(batch_i, batch_size):\n",
    "                train_neural_network(sess, optimizer, keep_probability, batch_features, batch_labels)\n",
    "            print('Epoch {:>2}, CIFAR-10 Batch {}:  '.format(epoch + 1, batch_i), end='')\n",
    "            print_stats(sess, batch_features, batch_labels, cost, accuracy)\n",
    "            \n",
    "    # Save Model\n",
    "    saver = tf.train.Saver()\n",
    "    save_path = saver.save(sess, save_model_path)"
   ]
  },
  {
   "cell_type": "markdown",
   "metadata": {
    "deletable": true,
    "editable": true
   },
   "source": [
    "# Checkpoint\n",
    "The model has been saved to disk.\n",
    "## Test Model\n",
    "Test your model against the test dataset.  This will be your final accuracy. You should have an accuracy greater than 50%. If you don't, keep tweaking the model architecture and parameters."
   ]
  },
  {
   "cell_type": "code",
   "execution_count": 77,
   "metadata": {
    "collapsed": false,
    "deletable": true,
    "editable": true
   },
   "outputs": [
    {
     "name": "stdout",
     "output_type": "stream",
     "text": [
      "Testing Accuracy: 0.6843012571334839\n",
      "\n"
     ]
    },
    {
     "data": {
      "image/png": "[encoded data removed]",
      "text/plain": [
       "<matplotlib.figure.Figure at 0x7f928139b8d0>"
      ]
     },
     "metadata": {
      "image/png": {
       "height": 319,
       "width": 355
      }
     },
     "output_type": "display_data"
    }
   ],
   "source": [
    "\"\"\"\n",
    "DON'T MODIFY ANYTHING IN THIS CELL\n",
    "\"\"\"\n",
    "%matplotlib inline\n",
    "%config InlineBackend.figure_format = 'retina'\n",
    "\n",
    "import tensorflow as tf\n",
    "import pickle\n",
    "import helper\n",
    "import random\n",
    "\n",
    "# Set batch size if not already set\n",
    "try:\n",
    "    if batch_size:\n",
    "        pass\n",
    "except NameError:\n",
    "    batch_size = 64\n",
    "\n",
    "save_model_path = './image_classification'\n",
    "n_samples = 4\n",
    "top_n_predictions = 3\n",
    "\n",
    "def test_model():\n",
    "    \"\"\"\n",
    "    Test the saved model against the test dataset\n",
    "    \"\"\"\n",
    "\n",
    "    test_features, test_labels = pickle.load(open('preprocess_training.p', mode='rb'))\n",
    "    loaded_graph = tf.Graph()\n",
    "\n",
    "    with tf.Session(graph=loaded_graph) as sess:\n",
    "        # Load model\n",
    "        loader = tf.train.import_meta_graph(save_model_path + '.meta')\n",
    "        loader.restore(sess, save_model_path)\n",
    "\n",
    "        # Get Tensors from loaded model\n",
    "        loaded_x = loaded_graph.get_tensor_by_name('x:0')\n",
    "        loaded_y = loaded_graph.get_tensor_by_name('y:0')\n",
    "        loaded_keep_prob = loaded_graph.get_tensor_by_name('keep_prob:0')\n",
    "        loaded_logits = loaded_graph.get_tensor_by_name('logits:0')\n",
    "        loaded_acc = loaded_graph.get_tensor_by_name('accuracy:0')\n",
    "        \n",
    "        # Get accuracy in batches for memory limitations\n",
    "        test_batch_acc_total = 0\n",
    "        test_batch_count = 0\n",
    "        \n",
    "        for train_feature_batch, train_label_batch in helper.batch_features_labels(test_features, test_labels, batch_size):\n",
    "            test_batch_acc_total += sess.run(\n",
    "                loaded_acc,\n",
    "                feed_dict={loaded_x: train_feature_batch, loaded_y: train_label_batch, loaded_keep_prob: 1.0})\n",
    "            test_batch_count += 1\n",
    "\n",
    "        print('Testing Accuracy: {}\\n'.format(test_batch_acc_total/test_batch_count))\n",
    "\n",
    "        # Print Random Samples\n",
    "        random_test_features, random_test_labels = tuple(zip(*random.sample(list(zip(test_features, test_labels)), n_samples)))\n",
    "        random_test_predictions = sess.run(\n",
    "            tf.nn.top_k(tf.nn.softmax(loaded_logits), top_n_predictions),\n",
    "            feed_dict={loaded_x: random_test_features, loaded_y: random_test_labels, loaded_keep_prob: 1.0})\n",
    "        helper.display_image_predictions(random_test_features, random_test_labels, random_test_predictions)\n",
    "\n",
    "\n",
    "test_model()"
   ]
  },
  {
   "cell_type": "markdown",
   "metadata": {
    "deletable": true,
    "editable": true
   },
   "source": [
    "## Why 50-80% Accuracy?\n",
    "You might be wondering why you can't get an accuracy any higher. First things first, 50% isn't bad for a simple CNN.  Pure guessing would get you 10% accuracy. However, you might notice people are getting scores [well above 80%](http://rodrigob.github.io/are_we_there_yet/build/classification_datasets_results.html#43494641522d3130).  That's because we haven't taught you all there is to know about neural networks. We still need to cover a few more techniques.\n",
    "## Submitting This Project\n",
    "When submitting this project, make sure to run all the cells before saving the notebook.  Save the notebook file as \"dlnd_image_classification.ipynb\" and save it as a HTML file under \"File\" -> \"Download as\".  Include the \"helper.py\" and \"problem_unittests.py\" files in your submission."
   ]
  }
 ],
 "metadata": {
  "kernelspec": {
   "display_name": "Python 3",
   "language": "python",
   "name": "python3"
  },
  "language_info": {
   "codemirror_mode": {
    "name": "ipython",
    "version": 3
   },
   "file_extension": ".py",
   "mimetype": "text/x-python",
   "name": "python",
   "nbconvert_exporter": "python",
   "pygments_lexer": "ipython3",
   "version": "3.5.2"
  },
  "widgets": {
   "state": {},
   "version": "1.1.2"
  }
 },
 "nbformat": 4,
 "nbformat_minor": 0
}
